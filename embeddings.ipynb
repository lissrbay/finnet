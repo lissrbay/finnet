{
 "cells": [
  {
   "cell_type": "code",
   "execution_count": 0,
   "metadata": {
    "colab": {
     "base_uri": "https://localhost:8080/",
     "height": 1000
    },
    "colab_type": "code",
    "id": "vqlfeMDH3gGI",
    "outputId": "5450f051-71db-4766-8aa2-f13168a2b56f"
   },
   "outputs": [
    {
     "name": "stdout",
     "output_type": "stream",
     "text": [
      "Collecting stellargraph\n",
      "\u001b[?25l  Downloading https://files.pythonhosted.org/packages/6f/2d/038e1c30a2ad84a0ca354294b9cb4094b55cfa2f904776bc19b66f53fe66/stellargraph-1.0.0-py3-none-any.whl (433kB)\n",
      "\r",
      "\u001b[K     |▊                               | 10kB 22.7MB/s eta 0:00:01\r",
      "\u001b[K     |█▌                              | 20kB 29.6MB/s eta 0:00:01\r",
      "\u001b[K     |██▎                             | 30kB 25.2MB/s eta 0:00:01\r",
      "\u001b[K     |███                             | 40kB 16.7MB/s eta 0:00:01\r",
      "\u001b[K     |███▉                            | 51kB 14.2MB/s eta 0:00:01\r",
      "\u001b[K     |████▌                           | 61kB 13.1MB/s eta 0:00:01\r",
      "\u001b[K     |█████▎                          | 71kB 12.3MB/s eta 0:00:01\r",
      "\u001b[K     |██████                          | 81kB 11.2MB/s eta 0:00:01\r",
      "\u001b[K     |██████▉                         | 92kB 11.0MB/s eta 0:00:01\r",
      "\u001b[K     |███████▋                        | 102kB 11.0MB/s eta 0:00:01\r",
      "\u001b[K     |████████▎                       | 112kB 11.0MB/s eta 0:00:01\r",
      "\u001b[K     |█████████                       | 122kB 11.0MB/s eta 0:00:01\r",
      "\u001b[K     |█████████▉                      | 133kB 11.0MB/s eta 0:00:01\r",
      "\u001b[K     |██████████▋                     | 143kB 11.0MB/s eta 0:00:01\r",
      "\u001b[K     |███████████▍                    | 153kB 11.0MB/s eta 0:00:01\r",
      "\u001b[K     |████████████                    | 163kB 11.0MB/s eta 0:00:01\r",
      "\u001b[K     |████████████▉                   | 174kB 11.0MB/s eta 0:00:01\r",
      "\u001b[K     |█████████████▋                  | 184kB 11.0MB/s eta 0:00:01\r",
      "\u001b[K     |██████████████▍                 | 194kB 11.0MB/s eta 0:00:01\r",
      "\u001b[K     |███████████████▏                | 204kB 11.0MB/s eta 0:00:01\r",
      "\u001b[K     |███████████████▉                | 215kB 11.0MB/s eta 0:00:01\r",
      "\u001b[K     |████████████████▋               | 225kB 11.0MB/s eta 0:00:01\r",
      "\u001b[K     |█████████████████▍              | 235kB 11.0MB/s eta 0:00:01\r",
      "\u001b[K     |██████████████████▏             | 245kB 11.0MB/s eta 0:00:01\r",
      "\u001b[K     |███████████████████             | 256kB 11.0MB/s eta 0:00:01\r",
      "\u001b[K     |███████████████████▋            | 266kB 11.0MB/s eta 0:00:01\r",
      "\u001b[K     |████████████████████▍           | 276kB 11.0MB/s eta 0:00:01\r",
      "\u001b[K     |█████████████████████▏          | 286kB 11.0MB/s eta 0:00:01\r",
      "\u001b[K     |██████████████████████          | 296kB 11.0MB/s eta 0:00:01\r",
      "\u001b[K     |██████████████████████▊         | 307kB 11.0MB/s eta 0:00:01\r",
      "\u001b[K     |███████████████████████▍        | 317kB 11.0MB/s eta 0:00:01\r",
      "\u001b[K     |████████████████████████▏       | 327kB 11.0MB/s eta 0:00:01\r",
      "\u001b[K     |█████████████████████████       | 337kB 11.0MB/s eta 0:00:01\r",
      "\u001b[K     |█████████████████████████▊      | 348kB 11.0MB/s eta 0:00:01\r",
      "\u001b[K     |██████████████████████████▌     | 358kB 11.0MB/s eta 0:00:01\r",
      "\u001b[K     |███████████████████████████▏    | 368kB 11.0MB/s eta 0:00:01\r",
      "\u001b[K     |████████████████████████████    | 378kB 11.0MB/s eta 0:00:01\r",
      "\u001b[K     |████████████████████████████▊   | 389kB 11.0MB/s eta 0:00:01\r",
      "\u001b[K     |█████████████████████████████▌  | 399kB 11.0MB/s eta 0:00:01\r",
      "\u001b[K     |██████████████████████████████▎ | 409kB 11.0MB/s eta 0:00:01\r",
      "\u001b[K     |███████████████████████████████ | 419kB 11.0MB/s eta 0:00:01\r",
      "\u001b[K     |███████████████████████████████▊| 430kB 11.0MB/s eta 0:00:01\r",
      "\u001b[K     |████████████████████████████████| 440kB 11.0MB/s \n",
      "\u001b[?25hRequirement already satisfied: scipy>=1.1.0 in /usr/local/lib/python3.6/dist-packages (from stellargraph) (1.4.1)\n",
      "Requirement already satisfied: matplotlib>=2.2 in /usr/local/lib/python3.6/dist-packages (from stellargraph) (3.2.1)\n",
      "Requirement already satisfied: scikit-learn>=0.20 in /usr/local/lib/python3.6/dist-packages (from stellargraph) (0.22.2.post1)\n",
      "Requirement already satisfied: pandas>=0.24 in /usr/local/lib/python3.6/dist-packages (from stellargraph) (1.0.3)\n",
      "Requirement already satisfied: tensorflow>=2.1.0 in /usr/local/lib/python3.6/dist-packages (from stellargraph) (2.2.0)\n",
      "Requirement already satisfied: networkx>=2.2 in /usr/local/lib/python3.6/dist-packages (from stellargraph) (2.4)\n",
      "Requirement already satisfied: gensim>=3.4.0 in /usr/local/lib/python3.6/dist-packages (from stellargraph) (3.6.0)\n",
      "Requirement already satisfied: numpy>=1.14 in /usr/local/lib/python3.6/dist-packages (from stellargraph) (1.18.4)\n",
      "Requirement already satisfied: pyparsing!=2.0.4,!=2.1.2,!=2.1.6,>=2.0.1 in /usr/local/lib/python3.6/dist-packages (from matplotlib>=2.2->stellargraph) (2.4.7)\n",
      "Requirement already satisfied: cycler>=0.10 in /usr/local/lib/python3.6/dist-packages (from matplotlib>=2.2->stellargraph) (0.10.0)\n",
      "Requirement already satisfied: kiwisolver>=1.0.1 in /usr/local/lib/python3.6/dist-packages (from matplotlib>=2.2->stellargraph) (1.2.0)\n",
      "Requirement already satisfied: python-dateutil>=2.1 in /usr/local/lib/python3.6/dist-packages (from matplotlib>=2.2->stellargraph) (2.8.1)\n",
      "Requirement already satisfied: joblib>=0.11 in /usr/local/lib/python3.6/dist-packages (from scikit-learn>=0.20->stellargraph) (0.15.1)\n",
      "Requirement already satisfied: pytz>=2017.2 in /usr/local/lib/python3.6/dist-packages (from pandas>=0.24->stellargraph) (2018.9)\n",
      "Requirement already satisfied: termcolor>=1.1.0 in /usr/local/lib/python3.6/dist-packages (from tensorflow>=2.1.0->stellargraph) (1.1.0)\n",
      "Requirement already satisfied: grpcio>=1.8.6 in /usr/local/lib/python3.6/dist-packages (from tensorflow>=2.1.0->stellargraph) (1.29.0)\n",
      "Requirement already satisfied: absl-py>=0.7.0 in /usr/local/lib/python3.6/dist-packages (from tensorflow>=2.1.0->stellargraph) (0.9.0)\n",
      "Requirement already satisfied: protobuf>=3.8.0 in /usr/local/lib/python3.6/dist-packages (from tensorflow>=2.1.0->stellargraph) (3.10.0)\n",
      "Requirement already satisfied: tensorboard<2.3.0,>=2.2.0 in /usr/local/lib/python3.6/dist-packages (from tensorflow>=2.1.0->stellargraph) (2.2.1)\n",
      "Requirement already satisfied: astunparse==1.6.3 in /usr/local/lib/python3.6/dist-packages (from tensorflow>=2.1.0->stellargraph) (1.6.3)\n",
      "Requirement already satisfied: opt-einsum>=2.3.2 in /usr/local/lib/python3.6/dist-packages (from tensorflow>=2.1.0->stellargraph) (3.2.1)\n",
      "Requirement already satisfied: tensorflow-estimator<2.3.0,>=2.2.0 in /usr/local/lib/python3.6/dist-packages (from tensorflow>=2.1.0->stellargraph) (2.2.0)\n",
      "Requirement already satisfied: wrapt>=1.11.1 in /usr/local/lib/python3.6/dist-packages (from tensorflow>=2.1.0->stellargraph) (1.12.1)\n",
      "Requirement already satisfied: google-pasta>=0.1.8 in /usr/local/lib/python3.6/dist-packages (from tensorflow>=2.1.0->stellargraph) (0.2.0)\n",
      "Requirement already satisfied: six>=1.12.0 in /usr/local/lib/python3.6/dist-packages (from tensorflow>=2.1.0->stellargraph) (1.12.0)\n",
      "Requirement already satisfied: wheel>=0.26; python_version >= \"3\" in /usr/local/lib/python3.6/dist-packages (from tensorflow>=2.1.0->stellargraph) (0.34.2)\n",
      "Requirement already satisfied: gast==0.3.3 in /usr/local/lib/python3.6/dist-packages (from tensorflow>=2.1.0->stellargraph) (0.3.3)\n",
      "Requirement already satisfied: keras-preprocessing>=1.1.0 in /usr/local/lib/python3.6/dist-packages (from tensorflow>=2.1.0->stellargraph) (1.1.2)\n",
      "Requirement already satisfied: h5py<2.11.0,>=2.10.0 in /usr/local/lib/python3.6/dist-packages (from tensorflow>=2.1.0->stellargraph) (2.10.0)\n",
      "Requirement already satisfied: decorator>=4.3.0 in /usr/local/lib/python3.6/dist-packages (from networkx>=2.2->stellargraph) (4.4.2)\n",
      "Requirement already satisfied: smart-open>=1.2.1 in /usr/local/lib/python3.6/dist-packages (from gensim>=3.4.0->stellargraph) (2.0.0)\n",
      "Requirement already satisfied: setuptools in /usr/local/lib/python3.6/dist-packages (from protobuf>=3.8.0->tensorflow>=2.1.0->stellargraph) (46.3.0)\n",
      "Requirement already satisfied: requests<3,>=2.21.0 in /usr/local/lib/python3.6/dist-packages (from tensorboard<2.3.0,>=2.2.0->tensorflow>=2.1.0->stellargraph) (2.23.0)\n",
      "Requirement already satisfied: google-auth-oauthlib<0.5,>=0.4.1 in /usr/local/lib/python3.6/dist-packages (from tensorboard<2.3.0,>=2.2.0->tensorflow>=2.1.0->stellargraph) (0.4.1)\n",
      "Requirement already satisfied: werkzeug>=0.11.15 in /usr/local/lib/python3.6/dist-packages (from tensorboard<2.3.0,>=2.2.0->tensorflow>=2.1.0->stellargraph) (1.0.1)\n",
      "Requirement already satisfied: tensorboard-plugin-wit>=1.6.0 in /usr/local/lib/python3.6/dist-packages (from tensorboard<2.3.0,>=2.2.0->tensorflow>=2.1.0->stellargraph) (1.6.0.post3)\n",
      "Requirement already satisfied: markdown>=2.6.8 in /usr/local/lib/python3.6/dist-packages (from tensorboard<2.3.0,>=2.2.0->tensorflow>=2.1.0->stellargraph) (3.2.2)\n",
      "Requirement already satisfied: google-auth<2,>=1.6.3 in /usr/local/lib/python3.6/dist-packages (from tensorboard<2.3.0,>=2.2.0->tensorflow>=2.1.0->stellargraph) (1.7.2)\n",
      "Requirement already satisfied: boto in /usr/local/lib/python3.6/dist-packages (from smart-open>=1.2.1->gensim>=3.4.0->stellargraph) (2.49.0)\n",
      "Requirement already satisfied: boto3 in /usr/local/lib/python3.6/dist-packages (from smart-open>=1.2.1->gensim>=3.4.0->stellargraph) (1.13.13)\n",
      "Requirement already satisfied: certifi>=2017.4.17 in /usr/local/lib/python3.6/dist-packages (from requests<3,>=2.21.0->tensorboard<2.3.0,>=2.2.0->tensorflow>=2.1.0->stellargraph) (2020.4.5.1)\n",
      "Requirement already satisfied: chardet<4,>=3.0.2 in /usr/local/lib/python3.6/dist-packages (from requests<3,>=2.21.0->tensorboard<2.3.0,>=2.2.0->tensorflow>=2.1.0->stellargraph) (3.0.4)\n",
      "Requirement already satisfied: idna<3,>=2.5 in /usr/local/lib/python3.6/dist-packages (from requests<3,>=2.21.0->tensorboard<2.3.0,>=2.2.0->tensorflow>=2.1.0->stellargraph) (2.9)\n",
      "Requirement already satisfied: urllib3!=1.25.0,!=1.25.1,<1.26,>=1.21.1 in /usr/local/lib/python3.6/dist-packages (from requests<3,>=2.21.0->tensorboard<2.3.0,>=2.2.0->tensorflow>=2.1.0->stellargraph) (1.24.3)\n",
      "Requirement already satisfied: requests-oauthlib>=0.7.0 in /usr/local/lib/python3.6/dist-packages (from google-auth-oauthlib<0.5,>=0.4.1->tensorboard<2.3.0,>=2.2.0->tensorflow>=2.1.0->stellargraph) (1.3.0)\n",
      "Requirement already satisfied: importlib-metadata; python_version < \"3.8\" in /usr/local/lib/python3.6/dist-packages (from markdown>=2.6.8->tensorboard<2.3.0,>=2.2.0->tensorflow>=2.1.0->stellargraph) (1.6.0)\n",
      "Requirement already satisfied: pyasn1-modules>=0.2.1 in /usr/local/lib/python3.6/dist-packages (from google-auth<2,>=1.6.3->tensorboard<2.3.0,>=2.2.0->tensorflow>=2.1.0->stellargraph) (0.2.8)\n",
      "Requirement already satisfied: rsa<4.1,>=3.1.4 in /usr/local/lib/python3.6/dist-packages (from google-auth<2,>=1.6.3->tensorboard<2.3.0,>=2.2.0->tensorflow>=2.1.0->stellargraph) (4.0)\n",
      "Requirement already satisfied: cachetools<3.2,>=2.0.0 in /usr/local/lib/python3.6/dist-packages (from google-auth<2,>=1.6.3->tensorboard<2.3.0,>=2.2.0->tensorflow>=2.1.0->stellargraph) (3.1.1)\n",
      "Requirement already satisfied: botocore<1.17.0,>=1.16.13 in /usr/local/lib/python3.6/dist-packages (from boto3->smart-open>=1.2.1->gensim>=3.4.0->stellargraph) (1.16.13)\n",
      "Requirement already satisfied: jmespath<1.0.0,>=0.7.1 in /usr/local/lib/python3.6/dist-packages (from boto3->smart-open>=1.2.1->gensim>=3.4.0->stellargraph) (0.10.0)\n",
      "Requirement already satisfied: s3transfer<0.4.0,>=0.3.0 in /usr/local/lib/python3.6/dist-packages (from boto3->smart-open>=1.2.1->gensim>=3.4.0->stellargraph) (0.3.3)\n",
      "Requirement already satisfied: oauthlib>=3.0.0 in /usr/local/lib/python3.6/dist-packages (from requests-oauthlib>=0.7.0->google-auth-oauthlib<0.5,>=0.4.1->tensorboard<2.3.0,>=2.2.0->tensorflow>=2.1.0->stellargraph) (3.1.0)\n",
      "Requirement already satisfied: zipp>=0.5 in /usr/local/lib/python3.6/dist-packages (from importlib-metadata; python_version < \"3.8\"->markdown>=2.6.8->tensorboard<2.3.0,>=2.2.0->tensorflow>=2.1.0->stellargraph) (3.1.0)\n",
      "Requirement already satisfied: pyasn1<0.5.0,>=0.4.6 in /usr/local/lib/python3.6/dist-packages (from pyasn1-modules>=0.2.1->google-auth<2,>=1.6.3->tensorboard<2.3.0,>=2.2.0->tensorflow>=2.1.0->stellargraph) (0.4.8)\n",
      "Requirement already satisfied: docutils<0.16,>=0.10 in /usr/local/lib/python3.6/dist-packages (from botocore<1.17.0,>=1.16.13->boto3->smart-open>=1.2.1->gensim>=3.4.0->stellargraph) (0.15.2)\n",
      "Installing collected packages: stellargraph\n",
      "Successfully installed stellargraph-1.0.0\n",
      "Go to this URL in a browser: https://accounts.google.com/o/oauth2/auth?client_id=947318989803-6bn6qk8qdgf4n4g3pfee6491hc0brc4i.apps.googleusercontent.com&redirect_uri=urn%3aietf%3awg%3aoauth%3a2.0%3aoob&response_type=code&scope=email%20https%3a%2f%2fwww.googleapis.com%2fauth%2fdocs.test%20https%3a%2f%2fwww.googleapis.com%2fauth%2fdrive%20https%3a%2f%2fwww.googleapis.com%2fauth%2fdrive.photos.readonly%20https%3a%2f%2fwww.googleapis.com%2fauth%2fpeopleapi.readonly\n",
      "\n",
      "Enter your authorization code:\n",
      "··········\n",
      "Mounted at /content/drive\n"
     ]
    }
   ],
   "source": [
    "from google.colab import drive\n",
    "import networkx as nx\n",
    "import pandas as pd\n",
    "import numpy as np\n",
    "import os\n",
    "import random\n",
    "from tqdm import tqdm\n",
    "!pip install stellargraph\n",
    "import stellargraph as sg\n",
    "from stellargraph.data import UnsupervisedSampler\n",
    "from stellargraph.mapper import Attri2VecLinkGenerator, Attri2VecNodeGenerator\n",
    "from stellargraph.layer import Attri2Vec, link_classification\n",
    "from sklearn import decomposition\n",
    "\n",
    "from tensorflow import keras\n",
    "\n",
    "from sklearn.linear_model import LogisticRegression\n",
    "from sklearn.metrics import roc_auc_score\n"
   ]
  },
  {
   "cell_type": "markdown",
   "metadata": {},
   "source": [
    "### Подгружаем данные и приводим в удобный для использования вид"
   ]
  },
  {
   "cell_type": "markdown",
   "metadata": {},
   "source": [
    "Коннектимся к гугл-диску с файлами"
   ]
  },
  {
   "cell_type": "code",
   "execution_count": 0,
   "metadata": {
    "colab": {
     "base_uri": "https://localhost:8080/",
     "height": 34
    },
    "colab_type": "code",
    "id": "9X2VzzaI30jL",
    "outputId": "3a59c436-7116-4669-fd16-3db15f97cf92"
   },
   "outputs": [
    {
     "name": "stdout",
     "output_type": "stream",
     "text": [
      "/content/drive/My Drive/graph\n"
     ]
    }
   ],
   "source": [
    "drive.mount('/content/drive')\n",
    "%cd /content/drive/My\\ Drive/graph"
   ]
  },
  {
   "cell_type": "markdown",
   "metadata": {},
   "source": [
    "Загружаем данные о вершинах и ребрах, связываем дополнительные сведения о вершинах в одну таблицу"
   ]
  },
  {
   "cell_type": "code",
   "execution_count": 0,
   "metadata": {
    "colab": {
     "base_uri": "https://localhost:8080/",
     "height": 104
    },
    "colab_type": "code",
    "id": "rn5lacdf353w",
    "outputId": "c3864071-fcf9-428f-9312-f5cca22cedc7"
   },
   "outputs": [
    {
     "name": "stdout",
     "output_type": "stream",
     "text": [
      "CPU times: user 2.85 s, sys: 262 ms, total: 3.11 s\n",
      "Wall time: 13.5 s\n"
     ]
    },
    {
     "name": "stderr",
     "output_type": "stream",
     "text": [
      "/usr/local/lib/python3.6/dist-packages/numpy/lib/arraysetops.py:569: FutureWarning: elementwise comparison failed; returning scalar instead, but in the future will perform elementwise comparison\n",
      "  mask |= (ar1 == a)\n"
     ]
    }
   ],
   "source": [
    "%%time\n",
    "edges = pd.read_csv('./edges.csv')\n",
    "vertices = pd.read_csv('./vertices_edit.csv', index_col=0) "
   ]
  },
  {
   "cell_type": "code",
   "execution_count": null,
   "metadata": {},
   "outputs": [],
   "source": [
    "vertices['main_okved'] = vertices['main_okved'].astype(str) \n",
    "vertices['company_type'] = vertices['company_type'].astype(str) \n",
    "vertices['region_code'] = vertices['region_code'].astype(str) \n",
    "vertices['main_okved2'] = vertices['main_okved'].apply(lambda x: x.split('.')[0])"
   ]
  },
  {
   "cell_type": "code",
   "execution_count": 0,
   "metadata": {
    "colab": {
     "base_uri": "https://localhost:8080/",
     "height": 278
    },
    "colab_type": "code",
    "id": "dOtkveMb6H3r",
    "outputId": "1e24886d-c1dd-4681-caab-0f44e3f05163"
   },
   "outputs": [
    {
     "name": "stderr",
     "output_type": "stream",
     "text": [
      "/usr/local/lib/python3.6/dist-packages/numpy/lib/arraysetops.py:569: FutureWarning: elementwise comparison failed; returning scalar instead, but in the future will perform elementwise comparison\n",
      "  mask |= (ar1 == a)\n"
     ]
    },
    {
     "data": {
      "text/html": [
       "<div>\n",
       "<style scoped>\n",
       "    .dataframe tbody tr th:only-of-type {\n",
       "        vertical-align: middle;\n",
       "    }\n",
       "\n",
       "    .dataframe tbody tr th {\n",
       "        vertical-align: top;\n",
       "    }\n",
       "\n",
       "    .dataframe thead th {\n",
       "        text-align: right;\n",
       "    }\n",
       "</style>\n",
       "<table border=\"1\" class=\"dataframe\">\n",
       "  <thead>\n",
       "    <tr style=\"text-align: right;\">\n",
       "      <th></th>\n",
       "      <th>reg_name</th>\n",
       "      <th>population</th>\n",
       "      <th>fed_district</th>\n",
       "    </tr>\n",
       "    <tr>\n",
       "      <th>code</th>\n",
       "      <th></th>\n",
       "      <th></th>\n",
       "      <th></th>\n",
       "    </tr>\n",
       "  </thead>\n",
       "  <tbody>\n",
       "    <tr>\n",
       "      <th>77</th>\n",
       "      <td>Москва</td>\n",
       "      <td>12506468</td>\n",
       "      <td>Центральный</td>\n",
       "    </tr>\n",
       "    <tr>\n",
       "      <th>50</th>\n",
       "      <td>Московская область</td>\n",
       "      <td>7503385</td>\n",
       "      <td>Центральный</td>\n",
       "    </tr>\n",
       "    <tr>\n",
       "      <th>23</th>\n",
       "      <td>Краснодарский край</td>\n",
       "      <td>5603420</td>\n",
       "      <td>Южный</td>\n",
       "    </tr>\n",
       "    <tr>\n",
       "      <th>78</th>\n",
       "      <td>Санкт-Петербург</td>\n",
       "      <td>5351935</td>\n",
       "      <td>Северо-Западный</td>\n",
       "    </tr>\n",
       "    <tr>\n",
       "      <th>66</th>\n",
       "      <td>Свердловская область</td>\n",
       "      <td>4325256</td>\n",
       "      <td>Уральский</td>\n",
       "    </tr>\n",
       "  </tbody>\n",
       "</table>\n",
       "</div>"
      ],
      "text/plain": [
       "                  reg_name  population     fed_district\n",
       "code                                                   \n",
       "77                  Москва    12506468      Центральный\n",
       "50      Московская область     7503385      Центральный\n",
       "23      Краснодарский край     5603420            Южный\n",
       "78         Санкт-Петербург     5351935  Северо-Западный\n",
       "66    Свердловская область     4325256        Уральский"
      ]
     },
     "execution_count": 4,
     "metadata": {
      "tags": []
     },
     "output_type": "execute_result"
    }
   ],
   "source": [
    "regions = pd.read_csv('./regions.csv', index_col=0)\n",
    "regions['code'] = regions['code'].astype(str)\n",
    "regions = regions.set_index('code')\n",
    "regions.head()"
   ]
  },
  {
   "cell_type": "code",
   "execution_count": 0,
   "metadata": {
    "colab": {
     "base_uri": "https://localhost:8080/",
     "height": 195
    },
    "colab_type": "code",
    "id": "jy7SSK6tGAZo",
    "outputId": "3a4d1486-2a78-4202-d303-967054da546d"
   },
   "outputs": [
    {
     "data": {
      "text/html": [
       "<div>\n",
       "<style scoped>\n",
       "    .dataframe tbody tr th:only-of-type {\n",
       "        vertical-align: middle;\n",
       "    }\n",
       "\n",
       "    .dataframe tbody tr th {\n",
       "        vertical-align: top;\n",
       "    }\n",
       "\n",
       "    .dataframe thead th {\n",
       "        text-align: right;\n",
       "    }\n",
       "</style>\n",
       "<table border=\"1\" class=\"dataframe\">\n",
       "  <thead>\n",
       "    <tr style=\"text-align: right;\">\n",
       "      <th></th>\n",
       "      <th>code</th>\n",
       "      <th>okved</th>\n",
       "      <th>letter</th>\n",
       "    </tr>\n",
       "  </thead>\n",
       "  <tbody>\n",
       "    <tr>\n",
       "      <th>0</th>\n",
       "      <td>1</td>\n",
       "      <td>СЕЛЬСКОЕ, ЛЕСНОЕ ХОЗЯЙСТВО, ОХОТА, РЫБОЛОВСТВО...</td>\n",
       "      <td>А</td>\n",
       "    </tr>\n",
       "    <tr>\n",
       "      <th>1</th>\n",
       "      <td>2</td>\n",
       "      <td>СЕЛЬСКОЕ, ЛЕСНОЕ ХОЗЯЙСТВО, ОХОТА, РЫБОЛОВСТВО...</td>\n",
       "      <td>А</td>\n",
       "    </tr>\n",
       "    <tr>\n",
       "      <th>2</th>\n",
       "      <td>3</td>\n",
       "      <td>СЕЛЬСКОЕ, ЛЕСНОЕ ХОЗЯЙСТВО, ОХОТА, РЫБОЛОВСТВО...</td>\n",
       "      <td>А</td>\n",
       "    </tr>\n",
       "    <tr>\n",
       "      <th>3</th>\n",
       "      <td>5</td>\n",
       "      <td>ДОБЫЧА ПОЛЕЗНЫХ ИСКОПАЕМЫХ</td>\n",
       "      <td>B</td>\n",
       "    </tr>\n",
       "    <tr>\n",
       "      <th>4</th>\n",
       "      <td>6</td>\n",
       "      <td>ДОБЫЧА ПОЛЕЗНЫХ ИСКОПАЕМЫХ</td>\n",
       "      <td>B</td>\n",
       "    </tr>\n",
       "  </tbody>\n",
       "</table>\n",
       "</div>"
      ],
      "text/plain": [
       "  code                                              okved letter\n",
       "0    1  СЕЛЬСКОЕ, ЛЕСНОЕ ХОЗЯЙСТВО, ОХОТА, РЫБОЛОВСТВО...      А\n",
       "1    2  СЕЛЬСКОЕ, ЛЕСНОЕ ХОЗЯЙСТВО, ОХОТА, РЫБОЛОВСТВО...      А\n",
       "2    3  СЕЛЬСКОЕ, ЛЕСНОЕ ХОЗЯЙСТВО, ОХОТА, РЫБОЛОВСТВО...      А\n",
       "3    5                         ДОБЫЧА ПОЛЕЗНЫХ ИСКОПАЕМЫХ      B\n",
       "4    6                         ДОБЫЧА ПОЛЕЗНЫХ ИСКОПАЕМЫХ      B"
      ]
     },
     "execution_count": 5,
     "metadata": {
      "tags": []
     },
     "output_type": "execute_result"
    }
   ],
   "source": [
    "okved = pd.read_csv('./okved.csv', index_col=0)\n",
    "okved['code'] = okved['code'].astype(str)\n",
    "okved.head()"
   ]
  },
  {
   "cell_type": "code",
   "execution_count": 0,
   "metadata": {
    "colab": {
     "base_uri": "https://localhost:8080/",
     "height": 225
    },
    "colab_type": "code",
    "id": "SZW5iwigGDo2",
    "outputId": "3c472488-cddd-47a0-fe34-a27e0e54824e"
   },
   "outputs": [
    {
     "data": {
      "text/html": [
       "<div>\n",
       "<style scoped>\n",
       "    .dataframe tbody tr th:only-of-type {\n",
       "        vertical-align: middle;\n",
       "    }\n",
       "\n",
       "    .dataframe tbody tr th {\n",
       "        vertical-align: top;\n",
       "    }\n",
       "\n",
       "    .dataframe thead th {\n",
       "        text-align: right;\n",
       "    }\n",
       "</style>\n",
       "<table border=\"1\" class=\"dataframe\">\n",
       "  <thead>\n",
       "    <tr style=\"text-align: right;\">\n",
       "      <th></th>\n",
       "      <th>main_okved</th>\n",
       "      <th>region_code</th>\n",
       "      <th>company_type</th>\n",
       "      <th>n_transactions</th>\n",
       "      <th>value</th>\n",
       "      <th>main_okved2</th>\n",
       "      <th>letter</th>\n",
       "      <th>population</th>\n",
       "      <th>fed_district</th>\n",
       "    </tr>\n",
       "    <tr>\n",
       "      <th>id</th>\n",
       "      <th></th>\n",
       "      <th></th>\n",
       "      <th></th>\n",
       "      <th></th>\n",
       "      <th></th>\n",
       "      <th></th>\n",
       "      <th></th>\n",
       "      <th></th>\n",
       "      <th></th>\n",
       "    </tr>\n",
       "  </thead>\n",
       "  <tbody>\n",
       "    <tr>\n",
       "      <th>1</th>\n",
       "      <td>46.75</td>\n",
       "      <td>77</td>\n",
       "      <td>Limited</td>\n",
       "      <td>0.698135</td>\n",
       "      <td>13.898125</td>\n",
       "      <td>46</td>\n",
       "      <td>G</td>\n",
       "      <td>12506468.0</td>\n",
       "      <td>Центральный</td>\n",
       "    </tr>\n",
       "    <tr>\n",
       "      <th>2</th>\n",
       "      <td>41.2</td>\n",
       "      <td>78</td>\n",
       "      <td>Limited</td>\n",
       "      <td>5.235162</td>\n",
       "      <td>14.052657</td>\n",
       "      <td>41</td>\n",
       "      <td>F</td>\n",
       "      <td>5351935.0</td>\n",
       "      <td>Северо-Западный</td>\n",
       "    </tr>\n",
       "    <tr>\n",
       "      <th>3</th>\n",
       "      <td>25.11</td>\n",
       "      <td>50</td>\n",
       "      <td>Limited</td>\n",
       "      <td>5.336584</td>\n",
       "      <td>13.381677</td>\n",
       "      <td>25</td>\n",
       "      <td>С</td>\n",
       "      <td>7503385.0</td>\n",
       "      <td>Центральный</td>\n",
       "    </tr>\n",
       "    <tr>\n",
       "      <th>4</th>\n",
       "      <td>45.31</td>\n",
       "      <td>89</td>\n",
       "      <td>Limited</td>\n",
       "      <td>6.404597</td>\n",
       "      <td>14.527384</td>\n",
       "      <td>45</td>\n",
       "      <td>G</td>\n",
       "      <td>538547.0</td>\n",
       "      <td>Уральский</td>\n",
       "    </tr>\n",
       "    <tr>\n",
       "      <th>5</th>\n",
       "      <td>56.1</td>\n",
       "      <td>50</td>\n",
       "      <td>Limited</td>\n",
       "      <td>6.283210</td>\n",
       "      <td>14.628678</td>\n",
       "      <td>56</td>\n",
       "      <td>I</td>\n",
       "      <td>7503385.0</td>\n",
       "      <td>Центральный</td>\n",
       "    </tr>\n",
       "  </tbody>\n",
       "</table>\n",
       "</div>"
      ],
      "text/plain": [
       "   main_okved region_code company_type  ...  letter  population     fed_district\n",
       "id                                      ...                                     \n",
       "1       46.75          77      Limited  ...       G  12506468.0      Центральный\n",
       "2        41.2          78      Limited  ...       F   5351935.0  Северо-Западный\n",
       "3       25.11          50      Limited  ...       С   7503385.0      Центральный\n",
       "4       45.31          89      Limited  ...       G    538547.0        Уральский\n",
       "5        56.1          50      Limited  ...       I   7503385.0      Центральный\n",
       "\n",
       "[5 rows x 9 columns]"
      ]
     },
     "execution_count": 6,
     "metadata": {
      "tags": []
     },
     "output_type": "execute_result"
    }
   ],
   "source": [
    "vertices = vertices.join(okved.set_index('code'), on='main_okved2')\n",
    "vertices['region_code'] = vertices['region_code'].astype(str)\n",
    "vertices = vertices.join(regions, on='region_code')\n",
    "vertices = vertices.drop(['reg_name', 'okved'], axis=1)\n",
    "vertices['population'] = vertices['population'].apply(np.log)\n",
    "vertices.head()"
   ]
  },
  {
   "cell_type": "markdown",
   "metadata": {},
   "source": [
    "Приводим данные о ребрах к логарифмированной шкале"
   ]
  },
  {
   "cell_type": "code",
   "execution_count": 0,
   "metadata": {
    "colab": {},
    "colab_type": "code",
    "id": "154CHJUl4Do2"
   },
   "outputs": [],
   "source": [
    "min_v = -edges['value'].min()\n",
    "edges['value'] = edges['value'].apply(lambda x: np.log(x+min_v + 1))\n",
    "edges = edges.replace(-np.inf, 0)\n",
    "edges = edges.replace(np.inf, 0)\n",
    "vertices = vertices.replace(np.nan, 0)\n",
    "edges = edges.replace(np.nan, 0)"
   ]
  },
  {
   "cell_type": "code",
   "execution_count": 0,
   "metadata": {
    "colab": {},
    "colab_type": "code",
    "id": "zHOE0Y9tnoUd"
   },
   "outputs": [],
   "source": [
    "edges['n_transactions'] = edges['n_transactions'].apply(lambda x: np.log(x+1))\n",
    "edges = edges.replace(-np.inf, 0)\n",
    "edges = edges.replace(np.inf, 0)\n",
    "vertices = vertices.replace(np.nan, 0)\n",
    "edges = edges.replace(np.nan, 0)"
   ]
  },
  {
   "cell_type": "markdown",
   "metadata": {},
   "source": [
    "Запишем категориальные данные в виде ohe-столбцов."
   ]
  },
  {
   "cell_type": "code",
   "execution_count": 0,
   "metadata": {
    "colab": {
     "base_uri": "https://localhost:8080/",
     "height": 84
    },
    "colab_type": "code",
    "id": "fSEwbt7JKnpw",
    "outputId": "229c71ef-a6d6-41d4-830c-b8f7b4671a5d"
   },
   "outputs": [
    {
     "name": "stderr",
     "output_type": "stream",
     "text": [
      "100%|██████████| 91/91 [00:54<00:00,  1.68it/s]\n",
      "100%|██████████| 6/6 [00:03<00:00,  1.72it/s]\n",
      "100%|██████████| 22/22 [00:12<00:00,  1.72it/s]\n",
      "100%|██████████| 9/9 [00:05<00:00,  1.79it/s]\n"
     ]
    }
   ],
   "source": [
    "for column in ['main_okved2', 'company_type', 'letter', 'fed_district']:\n",
    "    for value in tqdm(vertices[column].unique()):\n",
    "        vertices[f'{column}_{value}'] = vertices[column].apply(lambda x: int(x == value)).astype('int8')"
   ]
  },
  {
   "cell_type": "code",
   "execution_count": 0,
   "metadata": {
    "colab": {},
    "colab_type": "code",
    "id": "69pT0jtFK_Ds"
   },
   "outputs": [],
   "source": [
    "vertices = vertices.drop(columns=['main_okved', 'region_code', 'main_okved2', 'company_type', 'letter', 'fed_district'])"
   ]
  },
  {
   "cell_type": "markdown",
   "metadata": {},
   "source": [
    "### Воссоздаем граф:"
   ]
  },
  {
   "cell_type": "markdown",
   "metadata": {},
   "source": [
    "Уберем из графа вершины, в которые нет ребер"
   ]
  },
  {
   "cell_type": "code",
   "execution_count": 0,
   "metadata": {
    "colab": {
     "base_uri": "https://localhost:8080/",
     "height": 34
    },
    "colab_type": "code",
    "id": "fjDaPvly1zdX",
    "outputId": "94e5fc9e-4095-441a-8085-aa66880329e2"
   },
   "outputs": [
    {
     "data": {
      "text/plain": [
       "(1514713, 131)"
      ]
     },
     "execution_count": 13,
     "metadata": {
      "tags": []
     },
     "output_type": "execute_result"
    }
   ],
   "source": [
    "s = set(edges['id_1'].unique()).union(set(edges['id_2'].unique()))\n",
    "v = set(vertices.index)\n",
    "\n",
    "vertices_ = vertices.iloc[~vertices.index.isin(list(v.difference(s)))]\n",
    "vertices_.shape"
   ]
  },
  {
   "cell_type": "markdown",
   "metadata": {},
   "source": [
    "Сделаем граф networkx из ребер графа с весом, равным числу транзакций"
   ]
  },
  {
   "cell_type": "code",
   "execution_count": 0,
   "metadata": {
    "colab": {},
    "colab_type": "code",
    "id": "eWTkwgsTt8_V"
   },
   "outputs": [],
   "source": [
    "edgelist = edges\n",
    "edgelist = edgelist.rename(columns = {'id_1':'source', 'id_2':'target'}) # приводим названия колонок к виду, требуемому networkx\n",
    "G_all_nx = nx.from_pandas_edgelist(edgelist, edge_attr=['n_transactions']) # создаем граф из списка ребер и указываем имя \n",
    "                                                                           # атрибута, который будет использован как вес ребра            "
   ]
  },
  {
   "cell_type": "markdown",
   "metadata": {},
   "source": [
    "Также из полученного графа создадим граф с использованием библиотеки stellargraph. Помимо ребер, теперь граф содержит фичи для вершин."
   ]
  },
  {
   "cell_type": "code",
   "execution_count": 0,
   "metadata": {
    "colab": {},
    "colab_type": "code",
    "id": "xfkJSIk-xYI8"
   },
   "outputs": [],
   "source": [
    "all_node_features = vertices_\n",
    "G_all = sg.StellarGraph.from_networkx(G_all_nx, edge_weight_attr='n_transactions', node_features=all_node_features)"
   ]
  },
  {
   "cell_type": "code",
   "execution_count": 0,
   "metadata": {
    "colab": {
     "base_uri": "https://localhost:8080/",
     "height": 202
    },
    "colab_type": "code",
    "id": "OM660Jrr3vCW",
    "outputId": "138c8f83-8afb-46fb-9791-ea1d0732ae29"
   },
   "outputs": [
    {
     "name": "stdout",
     "output_type": "stream",
     "text": [
      "StellarGraph: Undirected multigraph\n",
      " Nodes: 1514713, Edges: 4685644\n",
      "\n",
      " Node types:\n",
      "  default: [1514713]\n",
      "    Features: float32 vector, length 131\n",
      "    Edge types: default-default->default\n",
      "\n",
      " Edge types:\n",
      "    default-default->default: [4685644]\n",
      "        Weights: range=[0.693147, 6.97849], mean=2.91898, std=2.21072\n"
     ]
    }
   ],
   "source": [
    "print(G_all.info())\n"
   ]
  },
  {
   "cell_type": "markdown",
   "metadata": {},
   "source": [
    "Пропишем настройки для генератора сэмплов"
   ]
  },
  {
   "cell_type": "code",
   "execution_count": 0,
   "metadata": {
    "colab": {},
    "colab_type": "code",
    "id": "NV4XfG5hTDcP"
   },
   "outputs": [],
   "source": [
    "nodes = list(G_all.nodes())\n",
    "number_of_walks = 4\n",
    "length = 3\n",
    "unsupervised_samples = UnsupervisedSampler(\n",
    "    G_all, nodes=nodes, length=length, number_of_walks=number_of_walks\n",
    ")"
   ]
  },
  {
   "cell_type": "markdown",
   "metadata": {},
   "source": [
    "И для генератора батчей"
   ]
  },
  {
   "cell_type": "code",
   "execution_count": 0,
   "metadata": {
    "colab": {
     "base_uri": "https://localhost:8080/",
     "height": 34
    },
    "colab_type": "code",
    "id": "7uxdVlK63-Qt",
    "outputId": "fc7b6306-d164-4822-a5f8-d66f774e7699"
   },
   "outputs": [
    {
     "name": "stdout",
     "output_type": "stream",
     "text": [
      "link_classification: using 'ip' method to combine node embeddings into edge embeddings\n"
     ]
    }
   ],
   "source": [
    "batch_size = 1024\n",
    "epochs = 3\n",
    "generator = Attri2VecLinkGenerator(G_all, batch_size)"
   ]
  },
  {
   "cell_type": "markdown",
   "metadata": {},
   "source": [
    "Создаем слои для модели"
   ]
  },
  {
   "cell_type": "code",
   "execution_count": null,
   "metadata": {},
   "outputs": [],
   "source": [
    "layer_sizes = [32] # указываем размер скрытого слоя\n",
    "attri2vec = Attri2Vec(\n",
    "    layer_sizes=layer_sizes, generator=generator, bias=False, normalize=None\n",
    ")\n",
    "x_inp, x_out = attri2vec.in_out_tensors() # определяем вход и выход attri2vec модели\n",
    "prediction = link_classification(\n",
    "    output_dim=1, output_act=\"sigmoid\", edge_embedding_method=\"ip\" # *\n",
    ")(x_out) # функция для генерации предсказания по эмбеддингам attri2vec модели"
   ]
  },
  {
   "cell_type": "markdown",
   "metadata": {},
   "source": [
    "\\* $ip(u,v) = sum_{i=1..d}{u_i*v_i}$"
   ]
  },
  {
   "cell_type": "markdown",
   "metadata": {},
   "source": [
    "Собираем все в одну модель"
   ]
  },
  {
   "cell_type": "code",
   "execution_count": 0,
   "metadata": {
    "colab": {},
    "colab_type": "code",
    "id": "3A0QSYaS54HZ"
   },
   "outputs": [],
   "source": [
    "model = keras.Model(inputs=x_inp, outputs=prediction)\n",
    "\n",
    "model.compile(\n",
    "    optimizer=keras.optimizers.Adam(lr=1e-2),\n",
    "    loss=keras.losses.binary_crossentropy,\n",
    "    metrics=[keras.metrics.binary_accuracy, keras.metrics.Precision()],\n",
    ")"
   ]
  },
  {
   "cell_type": "markdown",
   "metadata": {},
   "source": [
    "Генерируем батчи"
   ]
  },
  {
   "cell_type": "code",
   "execution_count": 0,
   "metadata": {
    "colab": {},
    "colab_type": "code",
    "id": "RqjZGt25zjZU"
   },
   "outputs": [],
   "source": [
    "batches = generator.flow(unsupervised_samples)"
   ]
  },
  {
   "cell_type": "markdown",
   "metadata": {},
   "source": [
    "Обучаем!"
   ]
  },
  {
   "cell_type": "code",
   "execution_count": 0,
   "metadata": {
    "colab": {
     "base_uri": "https://localhost:8080/",
     "height": 118
    },
    "colab_type": "code",
    "id": "y66peGEH58Ow",
    "outputId": "df47c876-f769-49f9-fffb-f779541bb610"
   },
   "outputs": [
    {
     "name": "stdout",
     "output_type": "stream",
     "text": [
      "Epoch 1/3\n",
      "17751/17751 [==============================] - 7607s 429ms/step - loss: 0.5915 - binary_accuracy: 0.6670 - precision: 0.6476\n",
      "Epoch 2/3\n",
      "17751/17751 [==============================] - 7425s 418ms/step - loss: 0.5283 - binary_accuracy: 0.7413 - precision: 0.7241\n",
      "Epoch 3/3\n",
      "16796/17751 [===========================>..] - ETA: 6:46 - loss: 0.5087 - binary_accuracy: 0.7582 - precision: 0.7481Buffered data was truncated after reaching the output size limit."
     ]
    }
   ],
   "source": [
    "history = model.fit(\n",
    "    batches,\n",
    "    epochs=epochs,\n",
    "    verbose=1,\n",
    "    shuffle=False,\n",
    ")"
   ]
  },
  {
   "cell_type": "markdown",
   "metadata": {},
   "source": [
    "В результате получаем точность около 76%. "
   ]
  },
  {
   "cell_type": "markdown",
   "metadata": {},
   "source": [
    "### Сохраняем и используем модель"
   ]
  },
  {
   "cell_type": "code",
   "execution_count": 0,
   "metadata": {
    "colab": {
     "base_uri": "https://localhost:8080/",
     "height": 34
    },
    "colab_type": "code",
    "id": "uPL1MC798TOi",
    "outputId": "7c1cdf3a-23d1-4714-eff5-84ea19917cef"
   },
   "outputs": [
    {
     "name": "stdout",
     "output_type": "stream",
     "text": [
      "Saved model to disk\n"
     ]
    }
   ],
   "source": [
    "model_json = model.to_json()\n",
    "with open(\"model(all,lr1e-2,3).json\", \"w\") as json_file:\n",
    "    json_file.write(model_json)\n",
    "model.save_weights(\"model(all,lr1e-2,3).h5\")\n",
    "print(\"Saved model to disk\")"
   ]
  },
  {
   "cell_type": "markdown",
   "metadata": {},
   "source": [
    "Извлекаем веса из прошлой модели"
   ]
  },
  {
   "cell_type": "code",
   "execution_count": 0,
   "metadata": {
    "colab": {},
    "colab_type": "code",
    "id": "dGQowHsBSsPT"
   },
   "outputs": [],
   "source": [
    "x_inp_src = x_inp[0]\n",
    "x_out_src = x_out[0]"
   ]
  },
  {
   "cell_type": "markdown",
   "metadata": {},
   "source": [
    "Снова определяем генератор, но уже для вершин"
   ]
  },
  {
   "cell_type": "code",
   "execution_count": 0,
   "metadata": {
    "colab": {},
    "colab_type": "code",
    "id": "M5SZX9gPOhem"
   },
   "outputs": [],
   "source": [
    "batches = Attri2VecNodeGenerator(G_all, batch_size).flow(G_all.nodes())"
   ]
  },
  {
   "cell_type": "markdown",
   "metadata": {},
   "source": [
    "Делаем модель, которая по фичам выдает векторное представление"
   ]
  },
  {
   "cell_type": "code",
   "execution_count": 0,
   "metadata": {
    "colab": {},
    "colab_type": "code",
    "id": "mTBroLbROnf7"
   },
   "outputs": [],
   "source": [
    "model = keras.Model(inputs=x_inp_src, outputs=x_out_src)"
   ]
  },
  {
   "cell_type": "markdown",
   "metadata": {},
   "source": [
    "Наконец, предсказываем"
   ]
  },
  {
   "cell_type": "code",
   "execution_count": 0,
   "metadata": {
    "colab": {
     "base_uri": "https://localhost:8080/",
     "height": 34
    },
    "colab_type": "code",
    "id": "kM3QCwxmOsso",
    "outputId": "ca627e5c-2fb7-4f17-e008-17b11e34bde0"
   },
   "outputs": [
    {
     "name": "stdout",
     "output_type": "stream",
     "text": [
      "1480/1480 [==============================] - 3s 2ms/step\n"
     ]
    }
   ],
   "source": [
    "node_embeddings = model.predict(batches, workers=1, verbose=1)"
   ]
  },
  {
   "cell_type": "markdown",
   "metadata": {},
   "source": [
    "Запишем предсказания в датафрейм"
   ]
  },
  {
   "cell_type": "code",
   "execution_count": 0,
   "metadata": {
    "colab": {},
    "colab_type": "code",
    "id": "BuWgc4smD-Ou"
   },
   "outputs": [],
   "source": [
    "df = pd.DataFrame.from_records(node_embeddings)\n",
    "df.index = G_all.nodes()\n",
    "df.to_csv(\"./embeddings(all,lr1e-2,3).csv\")"
   ]
  },
  {
   "cell_type": "markdown",
   "metadata": {},
   "source": [
    "Если необходимо, можно загрузить сохраненную модель"
   ]
  },
  {
   "cell_type": "code",
   "execution_count": 0,
   "metadata": {
    "colab": {},
    "colab_type": "code",
    "id": "RJqkp4LTYRqi"
   },
   "outputs": [],
   "source": [
    "#model.load_weights(\"model1kk.h5\")\n",
    "#print(\"Loaded model from disk\")"
   ]
  },
  {
   "cell_type": "code",
   "execution_count": 0,
   "metadata": {
    "colab": {},
    "colab_type": "code",
    "id": "GkZOtpQsAqz0"
   },
   "outputs": [],
   "source": []
  }
 ],
 "metadata": {
  "accelerator": "GPU",
  "colab": {
   "collapsed_sections": [],
   "name": "Untitled1_4_(1) (1).ipynb",
   "provenance": []
  },
  "kernelspec": {
   "display_name": "Python 3",
   "language": "python",
   "name": "python3"
  },
  "language_info": {
   "codemirror_mode": {
    "name": "ipython",
    "version": 3
   },
   "file_extension": ".py",
   "mimetype": "text/x-python",
   "name": "python",
   "nbconvert_exporter": "python",
   "pygments_lexer": "ipython3",
   "version": "3.7.3"
  }
 },
 "nbformat": 4,
 "nbformat_minor": 1
}

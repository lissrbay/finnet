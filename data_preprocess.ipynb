{
 "cells": [
  {
   "cell_type": "code",
   "execution_count": 2,
   "metadata": {},
   "outputs": [],
   "source": [
    "import numpy as np\n",
    "import pandas as pd\n",
    "import tqdm"
   ]
  },
  {
   "cell_type": "code",
   "execution_count": 3,
   "metadata": {},
   "outputs": [
    {
     "name": "stderr",
     "output_type": "stream",
     "text": [
      "C:\\Users\\lissrbay\\Anaconda3\\lib\\site-packages\\numpy\\lib\\arraysetops.py:569: FutureWarning: elementwise comparison failed; returning scalar instead, but in the future will perform elementwise comparison\n",
      "  mask |= (ar1 == a)\n"
     ]
    },
    {
     "name": "stdout",
     "output_type": "stream",
     "text": [
      "Wall time: 2.93 s\n"
     ]
    }
   ],
   "source": [
    "%%time\n",
    "edges = pd.read_csv('./edges.csv')\n",
    "vertices = pd.read_csv('./vertices.csv', index_col=0) "
   ]
  },
  {
   "cell_type": "code",
   "execution_count": 3,
   "metadata": {},
   "outputs": [
    {
     "data": {
      "text/html": [
       "<div>\n",
       "<style scoped>\n",
       "    .dataframe tbody tr th:only-of-type {\n",
       "        vertical-align: middle;\n",
       "    }\n",
       "\n",
       "    .dataframe tbody tr th {\n",
       "        vertical-align: top;\n",
       "    }\n",
       "\n",
       "    .dataframe thead th {\n",
       "        text-align: right;\n",
       "    }\n",
       "</style>\n",
       "<table border=\"1\" class=\"dataframe\">\n",
       "  <thead>\n",
       "    <tr style=\"text-align: right;\">\n",
       "      <th></th>\n",
       "      <th>id_1</th>\n",
       "      <th>id_2</th>\n",
       "      <th>value</th>\n",
       "      <th>n_transactions</th>\n",
       "    </tr>\n",
       "  </thead>\n",
       "  <tbody>\n",
       "    <tr>\n",
       "      <th>0</th>\n",
       "      <td>878327</td>\n",
       "      <td>1133997</td>\n",
       "      <td>478035.238733</td>\n",
       "      <td>277.747437</td>\n",
       "    </tr>\n",
       "    <tr>\n",
       "      <th>1</th>\n",
       "      <td>707356</td>\n",
       "      <td>1341541</td>\n",
       "      <td>442189.669684</td>\n",
       "      <td>80.997950</td>\n",
       "    </tr>\n",
       "    <tr>\n",
       "      <th>2</th>\n",
       "      <td>169982</td>\n",
       "      <td>494074</td>\n",
       "      <td>353097.929209</td>\n",
       "      <td>287.789650</td>\n",
       "    </tr>\n",
       "    <tr>\n",
       "      <th>3</th>\n",
       "      <td>551010</td>\n",
       "      <td>979933</td>\n",
       "      <td>537749.674840</td>\n",
       "      <td>426.743337</td>\n",
       "    </tr>\n",
       "    <tr>\n",
       "      <th>4</th>\n",
       "      <td>76064</td>\n",
       "      <td>597023</td>\n",
       "      <td>418990.198382</td>\n",
       "      <td>287.789650</td>\n",
       "    </tr>\n",
       "  </tbody>\n",
       "</table>\n",
       "</div>"
      ],
      "text/plain": [
       "     id_1     id_2          value  n_transactions\n",
       "0  878327  1133997  478035.238733      277.747437\n",
       "1  707356  1341541  442189.669684       80.997950\n",
       "2  169982   494074  353097.929209      287.789650\n",
       "3  551010   979933  537749.674840      426.743337\n",
       "4   76064   597023  418990.198382      287.789650"
      ]
     },
     "execution_count": 3,
     "metadata": {},
     "output_type": "execute_result"
    }
   ],
   "source": [
    "edges.head()"
   ]
  },
  {
   "cell_type": "code",
   "execution_count": 4,
   "metadata": {},
   "outputs": [
    {
     "data": {
      "text/html": [
       "<div>\n",
       "<style scoped>\n",
       "    .dataframe tbody tr th:only-of-type {\n",
       "        vertical-align: middle;\n",
       "    }\n",
       "\n",
       "    .dataframe tbody tr th {\n",
       "        vertical-align: top;\n",
       "    }\n",
       "\n",
       "    .dataframe thead th {\n",
       "        text-align: right;\n",
       "    }\n",
       "</style>\n",
       "<table border=\"1\" class=\"dataframe\">\n",
       "  <thead>\n",
       "    <tr style=\"text-align: right;\">\n",
       "      <th></th>\n",
       "      <th>main_okved</th>\n",
       "      <th>region_code</th>\n",
       "      <th>company_type</th>\n",
       "    </tr>\n",
       "    <tr>\n",
       "      <th>id</th>\n",
       "      <th></th>\n",
       "      <th></th>\n",
       "      <th></th>\n",
       "    </tr>\n",
       "  </thead>\n",
       "  <tbody>\n",
       "    <tr>\n",
       "      <th>1</th>\n",
       "      <td>46.75</td>\n",
       "      <td>77</td>\n",
       "      <td>Limited</td>\n",
       "    </tr>\n",
       "    <tr>\n",
       "      <th>2</th>\n",
       "      <td>41.20</td>\n",
       "      <td>78</td>\n",
       "      <td>Limited</td>\n",
       "    </tr>\n",
       "    <tr>\n",
       "      <th>3</th>\n",
       "      <td>25.11</td>\n",
       "      <td>50</td>\n",
       "      <td>Limited</td>\n",
       "    </tr>\n",
       "    <tr>\n",
       "      <th>4</th>\n",
       "      <td>45.31</td>\n",
       "      <td>89</td>\n",
       "      <td>Limited</td>\n",
       "    </tr>\n",
       "    <tr>\n",
       "      <th>5</th>\n",
       "      <td>56.10</td>\n",
       "      <td>50</td>\n",
       "      <td>Limited</td>\n",
       "    </tr>\n",
       "  </tbody>\n",
       "</table>\n",
       "</div>"
      ],
      "text/plain": [
       "    main_okved  region_code company_type\n",
       "id                                      \n",
       "1        46.75           77      Limited\n",
       "2        41.20           78      Limited\n",
       "3        25.11           50      Limited\n",
       "4        45.31           89      Limited\n",
       "5        56.10           50      Limited"
      ]
     },
     "execution_count": 4,
     "metadata": {},
     "output_type": "execute_result"
    }
   ],
   "source": [
    "vertices.head()"
   ]
  },
  {
   "cell_type": "markdown",
   "metadata": {},
   "source": [
    "###  Немного информации о датасете"
   ]
  },
  {
   "cell_type": "code",
   "execution_count": 5,
   "metadata": {},
   "outputs": [
    {
     "name": "stdout",
     "output_type": "stream",
     "text": [
      "<class 'pandas.core.frame.DataFrame'>\n",
      "Int64Index: 1534749 entries, 1 to 1534749\n",
      "Data columns (total 3 columns):\n",
      "main_okved      1534749 non-null float64\n",
      "region_code     1534749 non-null int64\n",
      "company_type    1534749 non-null object\n",
      "dtypes: float64(1), int64(1), object(1)\n",
      "memory usage: 46.8+ MB\n"
     ]
    }
   ],
   "source": [
    "vertices.info()"
   ]
  },
  {
   "cell_type": "code",
   "execution_count": 6,
   "metadata": {},
   "outputs": [
    {
     "name": "stdout",
     "output_type": "stream",
     "text": [
      "Число различных кодов деятельностей: 1073\n"
     ]
    }
   ],
   "source": [
    "print(\"Число различных кодов деятельностей:\", vertices['main_okved'].nunique())"
   ]
  },
  {
   "cell_type": "code",
   "execution_count": 7,
   "metadata": {},
   "outputs": [
    {
     "name": "stdout",
     "output_type": "stream",
     "text": [
      "Число различных кодов регионов: 89\n"
     ]
    }
   ],
   "source": [
    "print(\"Число различных кодов регионов:\", vertices['region_code'].nunique())"
   ]
  },
  {
   "cell_type": "code",
   "execution_count": 8,
   "metadata": {},
   "outputs": [
    {
     "name": "stdout",
     "output_type": "stream",
     "text": [
      "Число различных видов компаний: 6\n"
     ]
    }
   ],
   "source": [
    "print(\"Число различных видов компаний:\", vertices['company_type'].nunique())"
   ]
  },
  {
   "cell_type": "code",
   "execution_count": 9,
   "metadata": {},
   "outputs": [
    {
     "name": "stdout",
     "output_type": "stream",
     "text": [
      "<class 'pandas.core.frame.DataFrame'>\n",
      "RangeIndex: 4685644 entries, 0 to 4685643\n",
      "Data columns (total 4 columns):\n",
      "id_1              int64\n",
      "id_2              int64\n",
      "value             float64\n",
      "n_transactions    float64\n",
      "dtypes: float64(2), int64(2)\n",
      "memory usage: 143.0 MB\n"
     ]
    }
   ],
   "source": [
    "edges.info()"
   ]
  },
  {
   "cell_type": "code",
   "execution_count": 10,
   "metadata": {},
   "outputs": [
    {
     "name": "stdout",
     "output_type": "stream",
     "text": [
      "В среднем на каждую вершину у нас 8 ребер.\n",
      "А медиана 2 ребер.\n"
     ]
    }
   ],
   "source": [
    "e = edges.groupby('id_1').size()\n",
    "e = e.reset_index()\n",
    "e = e.set_index('id_1')\n",
    "e2 = edges.groupby('id_2').size()\n",
    "e2 = e2.reset_index()\n",
    "e2 = e2.set_index('id_2')\n",
    "e = e.join(e2, lsuffix='_')\n",
    "e = e.fillna(0)\n",
    "e = e['0_'] + e['0']\n",
    "print(\"В среднем на каждую вершину у нас {} ребер.\".format(int(e.mean())))\n",
    "print(\"А медиана {} ребер.\".format(int(e.median())))"
   ]
  },
  {
   "cell_type": "markdown",
   "metadata": {},
   "source": [
    "### Добавим информацию, которую можно получить из информации о ребрах."
   ]
  },
  {
   "cell_type": "markdown",
   "metadata": {},
   "source": [
    "Преобразуем ребра так, чтобы можно было привести значения к логарифмированным."
   ]
  },
  {
   "cell_type": "code",
   "execution_count": 11,
   "metadata": {},
   "outputs": [],
   "source": [
    "max_v = edges['value'].max()\n",
    "min_v = -edges['value'].min()\n",
    "edges['value'] = edges['value'].apply(lambda x: x+min_v + 1) # чтобы привести к диапазону (1, inf) \n",
    "edges = edges.replace(-np.inf, 0)\n",
    "edges = edges.replace(np.inf, 0)\n",
    "edges = edges.replace(np.nan, 0)"
   ]
  },
  {
   "cell_type": "markdown",
   "metadata": {},
   "source": [
    "Для каждой вершины запишем сумму потока денег и транзакций через нее."
   ]
  },
  {
   "cell_type": "code",
   "execution_count": 12,
   "metadata": {},
   "outputs": [
    {
     "data": {
      "text/html": [
       "<div>\n",
       "<style scoped>\n",
       "    .dataframe tbody tr th:only-of-type {\n",
       "        vertical-align: middle;\n",
       "    }\n",
       "\n",
       "    .dataframe tbody tr th {\n",
       "        vertical-align: top;\n",
       "    }\n",
       "\n",
       "    .dataframe thead th {\n",
       "        text-align: right;\n",
       "    }\n",
       "</style>\n",
       "<table border=\"1\" class=\"dataframe\">\n",
       "  <thead>\n",
       "    <tr style=\"text-align: right;\">\n",
       "      <th></th>\n",
       "      <th>main_okved</th>\n",
       "      <th>region_code</th>\n",
       "      <th>company_type</th>\n",
       "      <th>n_transactions</th>\n",
       "    </tr>\n",
       "    <tr>\n",
       "      <th>id</th>\n",
       "      <th></th>\n",
       "      <th></th>\n",
       "      <th></th>\n",
       "      <th></th>\n",
       "    </tr>\n",
       "  </thead>\n",
       "  <tbody>\n",
       "    <tr>\n",
       "      <th>1</th>\n",
       "      <td>46.75</td>\n",
       "      <td>77</td>\n",
       "      <td>Limited</td>\n",
       "      <td>2.000000</td>\n",
       "    </tr>\n",
       "    <tr>\n",
       "      <th>2</th>\n",
       "      <td>41.20</td>\n",
       "      <td>78</td>\n",
       "      <td>Limited</td>\n",
       "      <td>187.749487</td>\n",
       "    </tr>\n",
       "    <tr>\n",
       "      <th>3</th>\n",
       "      <td>25.11</td>\n",
       "      <td>50</td>\n",
       "      <td>Limited</td>\n",
       "      <td>207.791701</td>\n",
       "    </tr>\n",
       "    <tr>\n",
       "      <th>4</th>\n",
       "      <td>45.31</td>\n",
       "      <td>89</td>\n",
       "      <td>Limited</td>\n",
       "      <td>604.608179</td>\n",
       "    </tr>\n",
       "    <tr>\n",
       "      <th>5</th>\n",
       "      <td>56.10</td>\n",
       "      <td>50</td>\n",
       "      <td>Limited</td>\n",
       "      <td>535.494874</td>\n",
       "    </tr>\n",
       "  </tbody>\n",
       "</table>\n",
       "</div>"
      ],
      "text/plain": [
       "    main_okved  region_code company_type  n_transactions\n",
       "id                                                      \n",
       "1        46.75           77      Limited        2.000000\n",
       "2        41.20           78      Limited      187.749487\n",
       "3        25.11           50      Limited      207.791701\n",
       "4        45.31           89      Limited      604.608179\n",
       "5        56.10           50      Limited      535.494874"
      ]
     },
     "execution_count": 12,
     "metadata": {},
     "output_type": "execute_result"
    }
   ],
   "source": [
    "vertices = vertices.join(edges.groupby('id_1')['n_transactions'].sum())\n",
    "vertices = vertices.join(edges.groupby('id_2')['n_transactions'].sum(), lsuffix='1', rsuffix='2')\n",
    "vertices.n_transactions1 = vertices.n_transactions1.fillna(0)\n",
    "vertices.n_transactions2 = vertices.n_transactions2.fillna(0)\n",
    "vertices['n_transactions'] = vertices['n_transactions1'] + vertices['n_transactions2']\n",
    "vertices = vertices.drop(['n_transactions1', 'n_transactions2'], axis=1)\n",
    "vertices.head()"
   ]
  },
  {
   "cell_type": "code",
   "execution_count": 13,
   "metadata": {},
   "outputs": [
    {
     "data": {
      "text/html": [
       "<div>\n",
       "<style scoped>\n",
       "    .dataframe tbody tr th:only-of-type {\n",
       "        vertical-align: middle;\n",
       "    }\n",
       "\n",
       "    .dataframe tbody tr th {\n",
       "        vertical-align: top;\n",
       "    }\n",
       "\n",
       "    .dataframe thead th {\n",
       "        text-align: right;\n",
       "    }\n",
       "</style>\n",
       "<table border=\"1\" class=\"dataframe\">\n",
       "  <thead>\n",
       "    <tr style=\"text-align: right;\">\n",
       "      <th></th>\n",
       "      <th>main_okved</th>\n",
       "      <th>region_code</th>\n",
       "      <th>company_type</th>\n",
       "      <th>n_transactions</th>\n",
       "      <th>value</th>\n",
       "    </tr>\n",
       "    <tr>\n",
       "      <th>id</th>\n",
       "      <th></th>\n",
       "      <th></th>\n",
       "      <th></th>\n",
       "      <th></th>\n",
       "      <th></th>\n",
       "    </tr>\n",
       "  </thead>\n",
       "  <tbody>\n",
       "    <tr>\n",
       "      <th>1</th>\n",
       "      <td>46.75</td>\n",
       "      <td>77</td>\n",
       "      <td>Limited</td>\n",
       "      <td>2.000000</td>\n",
       "      <td>1.086125e+06</td>\n",
       "    </tr>\n",
       "    <tr>\n",
       "      <th>2</th>\n",
       "      <td>41.20</td>\n",
       "      <td>78</td>\n",
       "      <td>Limited</td>\n",
       "      <td>187.749487</td>\n",
       "      <td>1.267629e+06</td>\n",
       "    </tr>\n",
       "    <tr>\n",
       "      <th>3</th>\n",
       "      <td>25.11</td>\n",
       "      <td>50</td>\n",
       "      <td>Limited</td>\n",
       "      <td>207.791701</td>\n",
       "      <td>6.480210e+05</td>\n",
       "    </tr>\n",
       "    <tr>\n",
       "      <th>4</th>\n",
       "      <td>45.31</td>\n",
       "      <td>89</td>\n",
       "      <td>Limited</td>\n",
       "      <td>604.608179</td>\n",
       "      <td>2.037809e+06</td>\n",
       "    </tr>\n",
       "    <tr>\n",
       "      <th>5</th>\n",
       "      <td>56.10</td>\n",
       "      <td>50</td>\n",
       "      <td>Limited</td>\n",
       "      <td>535.494874</td>\n",
       "      <td>2.255042e+06</td>\n",
       "    </tr>\n",
       "  </tbody>\n",
       "</table>\n",
       "</div>"
      ],
      "text/plain": [
       "    main_okved  region_code company_type  n_transactions         value\n",
       "id                                                                    \n",
       "1        46.75           77      Limited        2.000000  1.086125e+06\n",
       "2        41.20           78      Limited      187.749487  1.267629e+06\n",
       "3        25.11           50      Limited      207.791701  6.480210e+05\n",
       "4        45.31           89      Limited      604.608179  2.037809e+06\n",
       "5        56.10           50      Limited      535.494874  2.255042e+06"
      ]
     },
     "execution_count": 13,
     "metadata": {},
     "output_type": "execute_result"
    }
   ],
   "source": [
    "vertices = vertices.join(edges.groupby('id_1')['value'].sum())\n",
    "vertices = vertices.join(edges.groupby('id_2')['value'].sum(), lsuffix='1', rsuffix='2')\n",
    "vertices.value1 = vertices.value1.fillna(0)\n",
    "vertices.value2 = vertices.value2.fillna(0)\n",
    "vertices['value'] = vertices['value1'] + vertices['value2']\n",
    "vertices = vertices.drop(['value1', 'value2'], axis=1)\n",
    "vertices.head()"
   ]
  },
  {
   "cell_type": "markdown",
   "metadata": {},
   "source": [
    "Прологарифмируем полученные значения."
   ]
  },
  {
   "cell_type": "code",
   "execution_count": 14,
   "metadata": {},
   "outputs": [],
   "source": [
    "vertices.value = vertices.value.apply(np.log)\n",
    "vertices.n_transactions = vertices.n_transactions.apply(np.log)\n",
    "vertices = vertices.replace(-np.inf, 0)\n",
    "vertices = vertices.replace(np.inf, 0)"
   ]
  },
  {
   "cell_type": "markdown",
   "metadata": {},
   "source": [
    "Сменим тип переменных на строковый, для упрощения работы с ними."
   ]
  },
  {
   "cell_type": "code",
   "execution_count": 15,
   "metadata": {},
   "outputs": [],
   "source": [
    "vertices['main_okved'] = vertices['main_okved'].astype(str) \n",
    "vertices['company_type'] = vertices['company_type'].astype(str) \n",
    "vertices['region_code'] = vertices['region_code'].astype(str) \n",
    "vertices['main_okved2'] = vertices['main_okved'].apply(lambda x: x.split('.')[0])"
   ]
  },
  {
   "cell_type": "code",
   "execution_count": 16,
   "metadata": {},
   "outputs": [],
   "source": [
    "# ручное кодирование переменных (нужно для эмбеддингов)\n",
    "#for column in ['main_okved','region_code', 'company_type']:\n",
    "#    for value in tqdm.tqdm(vertices[column].unique()):\n",
    "#        vertices[f'{column}_{value}'] = vertices[column].apply(lambda x: int(x == value)).astype('int8')"
   ]
  },
  {
   "cell_type": "code",
   "execution_count": 17,
   "metadata": {},
   "outputs": [
    {
     "data": {
      "text/html": [
       "<div>\n",
       "<style scoped>\n",
       "    .dataframe tbody tr th:only-of-type {\n",
       "        vertical-align: middle;\n",
       "    }\n",
       "\n",
       "    .dataframe tbody tr th {\n",
       "        vertical-align: top;\n",
       "    }\n",
       "\n",
       "    .dataframe thead th {\n",
       "        text-align: right;\n",
       "    }\n",
       "</style>\n",
       "<table border=\"1\" class=\"dataframe\">\n",
       "  <thead>\n",
       "    <tr style=\"text-align: right;\">\n",
       "      <th></th>\n",
       "      <th>main_okved</th>\n",
       "      <th>region_code</th>\n",
       "      <th>company_type</th>\n",
       "      <th>n_transactions</th>\n",
       "      <th>value</th>\n",
       "      <th>main_okved2</th>\n",
       "    </tr>\n",
       "    <tr>\n",
       "      <th>id</th>\n",
       "      <th></th>\n",
       "      <th></th>\n",
       "      <th></th>\n",
       "      <th></th>\n",
       "      <th></th>\n",
       "      <th></th>\n",
       "    </tr>\n",
       "  </thead>\n",
       "  <tbody>\n",
       "    <tr>\n",
       "      <th>1</th>\n",
       "      <td>46.75</td>\n",
       "      <td>77</td>\n",
       "      <td>Limited</td>\n",
       "      <td>0.693147</td>\n",
       "      <td>13.898127</td>\n",
       "      <td>46</td>\n",
       "    </tr>\n",
       "    <tr>\n",
       "      <th>2</th>\n",
       "      <td>41.2</td>\n",
       "      <td>78</td>\n",
       "      <td>Limited</td>\n",
       "      <td>5.235109</td>\n",
       "      <td>14.052659</td>\n",
       "      <td>41</td>\n",
       "    </tr>\n",
       "    <tr>\n",
       "      <th>3</th>\n",
       "      <td>25.11</td>\n",
       "      <td>50</td>\n",
       "      <td>Limited</td>\n",
       "      <td>5.336536</td>\n",
       "      <td>13.381678</td>\n",
       "      <td>25</td>\n",
       "    </tr>\n",
       "    <tr>\n",
       "      <th>4</th>\n",
       "      <td>45.31</td>\n",
       "      <td>89</td>\n",
       "      <td>Limited</td>\n",
       "      <td>6.404581</td>\n",
       "      <td>14.527386</td>\n",
       "      <td>45</td>\n",
       "    </tr>\n",
       "    <tr>\n",
       "      <th>5</th>\n",
       "      <td>56.1</td>\n",
       "      <td>50</td>\n",
       "      <td>Limited</td>\n",
       "      <td>6.283191</td>\n",
       "      <td>14.628679</td>\n",
       "      <td>56</td>\n",
       "    </tr>\n",
       "  </tbody>\n",
       "</table>\n",
       "</div>"
      ],
      "text/plain": [
       "   main_okved region_code company_type  n_transactions      value main_okved2\n",
       "id                                                                           \n",
       "1       46.75          77      Limited        0.693147  13.898127          46\n",
       "2        41.2          78      Limited        5.235109  14.052659          41\n",
       "3       25.11          50      Limited        5.336536  13.381678          25\n",
       "4       45.31          89      Limited        6.404581  14.527386          45\n",
       "5        56.1          50      Limited        6.283191  14.628679          56"
      ]
     },
     "execution_count": 17,
     "metadata": {},
     "output_type": "execute_result"
    }
   ],
   "source": [
    "vertices.head()"
   ]
  },
  {
   "cell_type": "markdown",
   "metadata": {},
   "source": [
    "### Добавим внешнюю информацию"
   ]
  },
  {
   "cell_type": "code",
   "execution_count": 18,
   "metadata": {},
   "outputs": [
    {
     "data": {
      "text/html": [
       "<div>\n",
       "<style scoped>\n",
       "    .dataframe tbody tr th:only-of-type {\n",
       "        vertical-align: middle;\n",
       "    }\n",
       "\n",
       "    .dataframe tbody tr th {\n",
       "        vertical-align: top;\n",
       "    }\n",
       "\n",
       "    .dataframe thead th {\n",
       "        text-align: right;\n",
       "    }\n",
       "</style>\n",
       "<table border=\"1\" class=\"dataframe\">\n",
       "  <thead>\n",
       "    <tr style=\"text-align: right;\">\n",
       "      <th></th>\n",
       "      <th>reg_name</th>\n",
       "      <th>population</th>\n",
       "      <th>fed_district</th>\n",
       "    </tr>\n",
       "    <tr>\n",
       "      <th>code</th>\n",
       "      <th></th>\n",
       "      <th></th>\n",
       "      <th></th>\n",
       "    </tr>\n",
       "  </thead>\n",
       "  <tbody>\n",
       "    <tr>\n",
       "      <th>77</th>\n",
       "      <td>Москва</td>\n",
       "      <td>12506468</td>\n",
       "      <td>Центральный</td>\n",
       "    </tr>\n",
       "    <tr>\n",
       "      <th>50</th>\n",
       "      <td>Московская область</td>\n",
       "      <td>7503385</td>\n",
       "      <td>Центральный</td>\n",
       "    </tr>\n",
       "    <tr>\n",
       "      <th>23</th>\n",
       "      <td>Краснодарский край</td>\n",
       "      <td>5603420</td>\n",
       "      <td>Южный</td>\n",
       "    </tr>\n",
       "    <tr>\n",
       "      <th>78</th>\n",
       "      <td>Санкт-Петербург</td>\n",
       "      <td>5351935</td>\n",
       "      <td>Северо-Западный</td>\n",
       "    </tr>\n",
       "    <tr>\n",
       "      <th>66</th>\n",
       "      <td>Свердловская область</td>\n",
       "      <td>4325256</td>\n",
       "      <td>Уральский</td>\n",
       "    </tr>\n",
       "  </tbody>\n",
       "</table>\n",
       "</div>"
      ],
      "text/plain": [
       "                  reg_name  population     fed_district\n",
       "code                                                   \n",
       "77                  Москва    12506468      Центральный\n",
       "50      Московская область     7503385      Центральный\n",
       "23      Краснодарский край     5603420            Южный\n",
       "78         Санкт-Петербург     5351935  Северо-Западный\n",
       "66    Свердловская область     4325256        Уральский"
      ]
     },
     "execution_count": 18,
     "metadata": {},
     "output_type": "execute_result"
    }
   ],
   "source": [
    "regions = pd.read_csv('./regions.csv', index_col=0)\n",
    "regions['code'] = regions['code'].astype(str)\n",
    "regions = regions.set_index('code')\n",
    "regions.head()"
   ]
  },
  {
   "cell_type": "code",
   "execution_count": 19,
   "metadata": {},
   "outputs": [
    {
     "data": {
      "text/html": [
       "<div>\n",
       "<style scoped>\n",
       "    .dataframe tbody tr th:only-of-type {\n",
       "        vertical-align: middle;\n",
       "    }\n",
       "\n",
       "    .dataframe tbody tr th {\n",
       "        vertical-align: top;\n",
       "    }\n",
       "\n",
       "    .dataframe thead th {\n",
       "        text-align: right;\n",
       "    }\n",
       "</style>\n",
       "<table border=\"1\" class=\"dataframe\">\n",
       "  <thead>\n",
       "    <tr style=\"text-align: right;\">\n",
       "      <th></th>\n",
       "      <th>code</th>\n",
       "      <th>okved</th>\n",
       "      <th>letter</th>\n",
       "    </tr>\n",
       "  </thead>\n",
       "  <tbody>\n",
       "    <tr>\n",
       "      <th>0</th>\n",
       "      <td>1</td>\n",
       "      <td>СЕЛЬСКОЕ, ЛЕСНОЕ ХОЗЯЙСТВО, ОХОТА, РЫБОЛОВСТВО...</td>\n",
       "      <td>А</td>\n",
       "    </tr>\n",
       "    <tr>\n",
       "      <th>1</th>\n",
       "      <td>2</td>\n",
       "      <td>СЕЛЬСКОЕ, ЛЕСНОЕ ХОЗЯЙСТВО, ОХОТА, РЫБОЛОВСТВО...</td>\n",
       "      <td>А</td>\n",
       "    </tr>\n",
       "    <tr>\n",
       "      <th>2</th>\n",
       "      <td>3</td>\n",
       "      <td>СЕЛЬСКОЕ, ЛЕСНОЕ ХОЗЯЙСТВО, ОХОТА, РЫБОЛОВСТВО...</td>\n",
       "      <td>А</td>\n",
       "    </tr>\n",
       "    <tr>\n",
       "      <th>3</th>\n",
       "      <td>5</td>\n",
       "      <td>ДОБЫЧА ПОЛЕЗНЫХ ИСКОПАЕМЫХ</td>\n",
       "      <td>B</td>\n",
       "    </tr>\n",
       "    <tr>\n",
       "      <th>4</th>\n",
       "      <td>6</td>\n",
       "      <td>ДОБЫЧА ПОЛЕЗНЫХ ИСКОПАЕМЫХ</td>\n",
       "      <td>B</td>\n",
       "    </tr>\n",
       "  </tbody>\n",
       "</table>\n",
       "</div>"
      ],
      "text/plain": [
       "  code                                              okved letter\n",
       "0    1  СЕЛЬСКОЕ, ЛЕСНОЕ ХОЗЯЙСТВО, ОХОТА, РЫБОЛОВСТВО...      А\n",
       "1    2  СЕЛЬСКОЕ, ЛЕСНОЕ ХОЗЯЙСТВО, ОХОТА, РЫБОЛОВСТВО...      А\n",
       "2    3  СЕЛЬСКОЕ, ЛЕСНОЕ ХОЗЯЙСТВО, ОХОТА, РЫБОЛОВСТВО...      А\n",
       "3    5                         ДОБЫЧА ПОЛЕЗНЫХ ИСКОПАЕМЫХ      B\n",
       "4    6                         ДОБЫЧА ПОЛЕЗНЫХ ИСКОПАЕМЫХ      B"
      ]
     },
     "execution_count": 19,
     "metadata": {},
     "output_type": "execute_result"
    }
   ],
   "source": [
    "okved = pd.read_csv('./okved.csv', index_col=0)\n",
    "okved['code'] = okved['code'].astype(str)\n",
    "okved.head()"
   ]
  },
  {
   "cell_type": "markdown",
   "metadata": {},
   "source": [
    "Добавляем инофрмацию о кодах специализации и региона."
   ]
  },
  {
   "cell_type": "code",
   "execution_count": 20,
   "metadata": {},
   "outputs": [
    {
     "data": {
      "text/html": [
       "<div>\n",
       "<style scoped>\n",
       "    .dataframe tbody tr th:only-of-type {\n",
       "        vertical-align: middle;\n",
       "    }\n",
       "\n",
       "    .dataframe tbody tr th {\n",
       "        vertical-align: top;\n",
       "    }\n",
       "\n",
       "    .dataframe thead th {\n",
       "        text-align: right;\n",
       "    }\n",
       "</style>\n",
       "<table border=\"1\" class=\"dataframe\">\n",
       "  <thead>\n",
       "    <tr style=\"text-align: right;\">\n",
       "      <th></th>\n",
       "      <th>main_okved</th>\n",
       "      <th>region_code</th>\n",
       "      <th>company_type</th>\n",
       "      <th>n_transactions</th>\n",
       "      <th>value</th>\n",
       "      <th>main_okved2</th>\n",
       "      <th>letter</th>\n",
       "      <th>population</th>\n",
       "      <th>fed_district</th>\n",
       "    </tr>\n",
       "    <tr>\n",
       "      <th>id</th>\n",
       "      <th></th>\n",
       "      <th></th>\n",
       "      <th></th>\n",
       "      <th></th>\n",
       "      <th></th>\n",
       "      <th></th>\n",
       "      <th></th>\n",
       "      <th></th>\n",
       "      <th></th>\n",
       "    </tr>\n",
       "  </thead>\n",
       "  <tbody>\n",
       "    <tr>\n",
       "      <th>1</th>\n",
       "      <td>46.75</td>\n",
       "      <td>77</td>\n",
       "      <td>Limited</td>\n",
       "      <td>0.693147</td>\n",
       "      <td>13.898127</td>\n",
       "      <td>46</td>\n",
       "      <td>G</td>\n",
       "      <td>12506468.0</td>\n",
       "      <td>Центральный</td>\n",
       "    </tr>\n",
       "    <tr>\n",
       "      <th>2</th>\n",
       "      <td>41.2</td>\n",
       "      <td>78</td>\n",
       "      <td>Limited</td>\n",
       "      <td>5.235109</td>\n",
       "      <td>14.052659</td>\n",
       "      <td>41</td>\n",
       "      <td>F</td>\n",
       "      <td>5351935.0</td>\n",
       "      <td>Северо-Западный</td>\n",
       "    </tr>\n",
       "    <tr>\n",
       "      <th>3</th>\n",
       "      <td>25.11</td>\n",
       "      <td>50</td>\n",
       "      <td>Limited</td>\n",
       "      <td>5.336536</td>\n",
       "      <td>13.381678</td>\n",
       "      <td>25</td>\n",
       "      <td>С</td>\n",
       "      <td>7503385.0</td>\n",
       "      <td>Центральный</td>\n",
       "    </tr>\n",
       "    <tr>\n",
       "      <th>4</th>\n",
       "      <td>45.31</td>\n",
       "      <td>89</td>\n",
       "      <td>Limited</td>\n",
       "      <td>6.404581</td>\n",
       "      <td>14.527386</td>\n",
       "      <td>45</td>\n",
       "      <td>G</td>\n",
       "      <td>538547.0</td>\n",
       "      <td>Уральский</td>\n",
       "    </tr>\n",
       "    <tr>\n",
       "      <th>5</th>\n",
       "      <td>56.1</td>\n",
       "      <td>50</td>\n",
       "      <td>Limited</td>\n",
       "      <td>6.283191</td>\n",
       "      <td>14.628679</td>\n",
       "      <td>56</td>\n",
       "      <td>I</td>\n",
       "      <td>7503385.0</td>\n",
       "      <td>Центральный</td>\n",
       "    </tr>\n",
       "  </tbody>\n",
       "</table>\n",
       "</div>"
      ],
      "text/plain": [
       "   main_okved region_code company_type  n_transactions      value main_okved2  \\\n",
       "id                                                                              \n",
       "1       46.75          77      Limited        0.693147  13.898127          46   \n",
       "2        41.2          78      Limited        5.235109  14.052659          41   \n",
       "3       25.11          50      Limited        5.336536  13.381678          25   \n",
       "4       45.31          89      Limited        6.404581  14.527386          45   \n",
       "5        56.1          50      Limited        6.283191  14.628679          56   \n",
       "\n",
       "   letter  population     fed_district  \n",
       "id                                      \n",
       "1       G  12506468.0      Центральный  \n",
       "2       F   5351935.0  Северо-Западный  \n",
       "3       С   7503385.0      Центральный  \n",
       "4       G    538547.0        Уральский  \n",
       "5       I   7503385.0      Центральный  "
      ]
     },
     "execution_count": 20,
     "metadata": {},
     "output_type": "execute_result"
    }
   ],
   "source": [
    "vertices = vertices.join(okved.set_index('code'), on='main_okved2')\n",
    "vertices['region_code'] = vertices['region_code'].astype(str)\n",
    "vertices = vertices.join(regions, on='region_code')\n",
    "vertices = vertices.drop(['reg_name', 'okved'], axis=1)\n",
    "vertices.head()"
   ]
  },
  {
   "cell_type": "markdown",
   "metadata": {},
   "source": [
    "Заполним пропуски в данных, которые отсутствуют в базе средним значением, или же значением из интернета(если номер региона просто устарел)."
   ]
  },
  {
   "cell_type": "code",
   "execution_count": 21,
   "metadata": {},
   "outputs": [],
   "source": [
    "vertices.loc[(vertices['region_code']==str(99)), 'population'] = vertices['population'].mean()\n",
    "vertices.loc[(vertices['region_code']==str(99)), 'fed_district'] = 'Мир'\n",
    "vertices.loc[(vertices['region_code']==str(81)), 'population'] = 2623122\n",
    "vertices.loc[(vertices['region_code']==str(81)), 'fed_district'] = 'Приволжский'\n",
    "vertices.loc[(vertices['region_code']==str(85)), 'population'] = 2404195\n",
    "vertices.loc[(vertices['region_code']==str(85)), 'fed_district'] = 'Сибирский'\n",
    "vertices.loc[(vertices['region_code']==str(0)), 'population'] = vertices['population'].mean()\n",
    "vertices.loc[(vertices['region_code']==str(0)), 'fed_district'] = 'Беларусь'\n",
    "vertices['fed_district'] = vertices['fed_district'].astype(str)\n",
    "vertices['letter'] = vertices['letter'].astype(str)\n",
    "vertices['population'] = vertices['population'].apply(np.log)"
   ]
  },
  {
   "cell_type": "markdown",
   "metadata": {},
   "source": [
    "Уберем значение кода региона, так как оно дублируется значением численности населения и при этом не определяет порядок т.е. заведомо хуже."
   ]
  },
  {
   "cell_type": "code",
   "execution_count": 22,
   "metadata": {},
   "outputs": [],
   "source": [
    "vertices = vertices.drop(['region_code'], axis=1)"
   ]
  },
  {
   "cell_type": "markdown",
   "metadata": {},
   "source": [
    "А вот следующий шаг был ошибкой :с"
   ]
  },
  {
   "cell_type": "markdown",
   "metadata": {},
   "source": [
    "Убираем вершины, в которые нет ребер в графе."
   ]
  },
  {
   "cell_type": "code",
   "execution_count": 23,
   "metadata": {},
   "outputs": [],
   "source": [
    "ex_vertices = list(set(edges['id_1'].values).union(edges['id_2'].values))\n",
    "vertices = vertices.loc[ex_vertices]"
   ]
  },
  {
   "cell_type": "code",
   "execution_count": 24,
   "metadata": {},
   "outputs": [
    {
     "data": {
      "text/html": [
       "<div>\n",
       "<style scoped>\n",
       "    .dataframe tbody tr th:only-of-type {\n",
       "        vertical-align: middle;\n",
       "    }\n",
       "\n",
       "    .dataframe tbody tr th {\n",
       "        vertical-align: top;\n",
       "    }\n",
       "\n",
       "    .dataframe thead th {\n",
       "        text-align: right;\n",
       "    }\n",
       "</style>\n",
       "<table border=\"1\" class=\"dataframe\">\n",
       "  <thead>\n",
       "    <tr style=\"text-align: right;\">\n",
       "      <th></th>\n",
       "      <th>main_okved</th>\n",
       "      <th>company_type</th>\n",
       "      <th>n_transactions</th>\n",
       "      <th>value</th>\n",
       "      <th>main_okved2</th>\n",
       "      <th>letter</th>\n",
       "      <th>population</th>\n",
       "      <th>fed_district</th>\n",
       "    </tr>\n",
       "    <tr>\n",
       "      <th>id</th>\n",
       "      <th></th>\n",
       "      <th></th>\n",
       "      <th></th>\n",
       "      <th></th>\n",
       "      <th></th>\n",
       "      <th></th>\n",
       "      <th></th>\n",
       "      <th></th>\n",
       "    </tr>\n",
       "  </thead>\n",
       "  <tbody>\n",
       "    <tr>\n",
       "      <th>1</th>\n",
       "      <td>46.75</td>\n",
       "      <td>Limited</td>\n",
       "      <td>0.693147</td>\n",
       "      <td>13.898127</td>\n",
       "      <td>46</td>\n",
       "      <td>G</td>\n",
       "      <td>16.341757</td>\n",
       "      <td>Центральный</td>\n",
       "    </tr>\n",
       "    <tr>\n",
       "      <th>2</th>\n",
       "      <td>41.2</td>\n",
       "      <td>Limited</td>\n",
       "      <td>5.235109</td>\n",
       "      <td>14.052659</td>\n",
       "      <td>41</td>\n",
       "      <td>F</td>\n",
       "      <td>15.492969</td>\n",
       "      <td>Северо-Западный</td>\n",
       "    </tr>\n",
       "    <tr>\n",
       "      <th>3</th>\n",
       "      <td>25.11</td>\n",
       "      <td>Limited</td>\n",
       "      <td>5.336536</td>\n",
       "      <td>13.381678</td>\n",
       "      <td>25</td>\n",
       "      <td>С</td>\n",
       "      <td>15.830865</td>\n",
       "      <td>Центральный</td>\n",
       "    </tr>\n",
       "    <tr>\n",
       "      <th>4</th>\n",
       "      <td>45.31</td>\n",
       "      <td>Limited</td>\n",
       "      <td>6.404581</td>\n",
       "      <td>14.527386</td>\n",
       "      <td>45</td>\n",
       "      <td>G</td>\n",
       "      <td>13.196630</td>\n",
       "      <td>Уральский</td>\n",
       "    </tr>\n",
       "    <tr>\n",
       "      <th>5</th>\n",
       "      <td>56.1</td>\n",
       "      <td>Limited</td>\n",
       "      <td>6.283191</td>\n",
       "      <td>14.628679</td>\n",
       "      <td>56</td>\n",
       "      <td>I</td>\n",
       "      <td>15.830865</td>\n",
       "      <td>Центральный</td>\n",
       "    </tr>\n",
       "  </tbody>\n",
       "</table>\n",
       "</div>"
      ],
      "text/plain": [
       "   main_okved company_type  n_transactions      value main_okved2 letter  \\\n",
       "id                                                                         \n",
       "1       46.75      Limited        0.693147  13.898127          46      G   \n",
       "2        41.2      Limited        5.235109  14.052659          41      F   \n",
       "3       25.11      Limited        5.336536  13.381678          25      С   \n",
       "4       45.31      Limited        6.404581  14.527386          45      G   \n",
       "5        56.1      Limited        6.283191  14.628679          56      I   \n",
       "\n",
       "    population     fed_district  \n",
       "id                               \n",
       "1    16.341757      Центральный  \n",
       "2    15.492969  Северо-Западный  \n",
       "3    15.830865      Центральный  \n",
       "4    13.196630        Уральский  \n",
       "5    15.830865      Центральный  "
      ]
     },
     "execution_count": 24,
     "metadata": {},
     "output_type": "execute_result"
    }
   ],
   "source": [
    "vertices.head()"
   ]
  },
  {
   "cell_type": "code",
   "execution_count": null,
   "metadata": {},
   "outputs": [],
   "source": []
  }
 ],
 "metadata": {
  "kernelspec": {
   "display_name": "Python 3",
   "language": "python",
   "name": "python3"
  },
  "language_info": {
   "codemirror_mode": {
    "name": "ipython",
    "version": 3
   },
   "file_extension": ".py",
   "mimetype": "text/x-python",
   "name": "python",
   "nbconvert_exporter": "python",
   "pygments_lexer": "ipython3",
   "version": "3.7.3"
  }
 },
 "nbformat": 4,
 "nbformat_minor": 2
}
